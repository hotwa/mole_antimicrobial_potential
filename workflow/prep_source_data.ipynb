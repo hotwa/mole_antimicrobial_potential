{
 "cells": [
  {
   "cell_type": "code",
   "execution_count": 1,
   "metadata": {},
   "outputs": [],
   "source": [
    "import os\n",
    "import pandas as pd"
   ]
  },
  {
   "cell_type": "markdown",
   "metadata": {},
   "source": [
    "## Figure 2"
   ]
  },
  {
   "cell_type": "code",
   "execution_count": 7,
   "metadata": {},
   "outputs": [
    {
     "data": {
      "text/html": [
       "<div>\n",
       "<style scoped>\n",
       "    .dataframe tbody tr th:only-of-type {\n",
       "        vertical-align: middle;\n",
       "    }\n",
       "\n",
       "    .dataframe tbody tr th {\n",
       "        vertical-align: top;\n",
       "    }\n",
       "\n",
       "    .dataframe thead th {\n",
       "        text-align: right;\n",
       "    }\n",
       "</style>\n",
       "<table border=\"1\" class=\"dataframe\">\n",
       "  <thead>\n",
       "    <tr style=\"text-align: right;\">\n",
       "      <th></th>\n",
       "      <th>chem_id</th>\n",
       "      <th>jaccard_rank</th>\n",
       "      <th>cosine_rank</th>\n",
       "      <th>tanimoto_rank</th>\n",
       "      <th>jaccard_dist</th>\n",
       "      <th>jaccard_log2</th>\n",
       "      <th>cosine_dist</th>\n",
       "      <th>cosine_log2</th>\n",
       "      <th>tanimoto_dist</th>\n",
       "      <th>tanimoto_dist_log2</th>\n",
       "      <th>smiles</th>\n",
       "    </tr>\n",
       "  </thead>\n",
       "  <tbody>\n",
       "    <tr>\n",
       "      <th>0</th>\n",
       "      <td>chem_83964</td>\n",
       "      <td>22</td>\n",
       "      <td>1</td>\n",
       "      <td>22</td>\n",
       "      <td>0.675000</td>\n",
       "      <td>-0.567041</td>\n",
       "      <td>0.004086</td>\n",
       "      <td>-7.935001</td>\n",
       "      <td>0.675000</td>\n",
       "      <td>-0.567041</td>\n",
       "      <td>Oc1ccc(CCC[NH2+]CCCc2ccc(O)cc2)cc1</td>\n",
       "    </tr>\n",
       "    <tr>\n",
       "      <th>1</th>\n",
       "      <td>chem_85673</td>\n",
       "      <td>1703</td>\n",
       "      <td>2</td>\n",
       "      <td>1702</td>\n",
       "      <td>0.807692</td>\n",
       "      <td>-0.308122</td>\n",
       "      <td>0.007094</td>\n",
       "      <td>-7.139280</td>\n",
       "      <td>0.807692</td>\n",
       "      <td>-0.308122</td>\n",
       "      <td>CCC[NH2+]CC(c1cccc(O)c1)c1cccc(O)c1</td>\n",
       "    </tr>\n",
       "    <tr>\n",
       "      <th>2</th>\n",
       "      <td>chem_41028</td>\n",
       "      <td>276</td>\n",
       "      <td>3</td>\n",
       "      <td>275</td>\n",
       "      <td>0.758621</td>\n",
       "      <td>-0.398549</td>\n",
       "      <td>0.015018</td>\n",
       "      <td>-6.057183</td>\n",
       "      <td>0.758621</td>\n",
       "      <td>-0.398549</td>\n",
       "      <td>CC(Cc1ccc(O)cc1)[NH2+]CC1Cc2ccccc2O1</td>\n",
       "    </tr>\n",
       "    <tr>\n",
       "      <th>3</th>\n",
       "      <td>chem_25955</td>\n",
       "      <td>309</td>\n",
       "      <td>4</td>\n",
       "      <td>309</td>\n",
       "      <td>0.762712</td>\n",
       "      <td>-0.390790</td>\n",
       "      <td>0.019637</td>\n",
       "      <td>-5.670283</td>\n",
       "      <td>0.762712</td>\n",
       "      <td>-0.390790</td>\n",
       "      <td>CC(Cc1ccc(O)cc1)[NH+]1Cc2c(O)cc(O)cc2C(O)C1</td>\n",
       "    </tr>\n",
       "    <tr>\n",
       "      <th>4</th>\n",
       "      <td>chem_25155</td>\n",
       "      <td>1170</td>\n",
       "      <td>5</td>\n",
       "      <td>1159</td>\n",
       "      <td>0.800000</td>\n",
       "      <td>-0.321928</td>\n",
       "      <td>0.021540</td>\n",
       "      <td>-5.536828</td>\n",
       "      <td>0.800000</td>\n",
       "      <td>-0.321928</td>\n",
       "      <td>CCC(Nc1ccc(O)cc1C)c1ccccc1O</td>\n",
       "    </tr>\n",
       "  </tbody>\n",
       "</table>\n",
       "</div>"
      ],
      "text/plain": [
       "      chem_id  jaccard_rank  cosine_rank  tanimoto_rank  jaccard_dist  \\\n",
       "0  chem_83964            22            1             22      0.675000   \n",
       "1  chem_85673          1703            2           1702      0.807692   \n",
       "2  chem_41028           276            3            275      0.758621   \n",
       "3  chem_25955           309            4            309      0.762712   \n",
       "4  chem_25155          1170            5           1159      0.800000   \n",
       "\n",
       "   jaccard_log2  cosine_dist  cosine_log2  tanimoto_dist  tanimoto_dist_log2  \\\n",
       "0     -0.567041     0.004086    -7.935001       0.675000           -0.567041   \n",
       "1     -0.308122     0.007094    -7.139280       0.807692           -0.308122   \n",
       "2     -0.398549     0.015018    -6.057183       0.758621           -0.398549   \n",
       "3     -0.390790     0.019637    -5.670283       0.762712           -0.390790   \n",
       "4     -0.321928     0.021540    -5.536828       0.800000           -0.321928   \n",
       "\n",
       "                                        smiles  \n",
       "0           Oc1ccc(CCC[NH2+]CCCc2ccc(O)cc2)cc1  \n",
       "1          CCC[NH2+]CC(c1cccc(O)c1)c1cccc(O)c1  \n",
       "2         CC(Cc1ccc(O)cc1)[NH2+]CC1Cc2ccccc2O1  \n",
       "3  CC(Cc1ccc(O)cc1)[NH+]1Cc2c(O)cc(O)cc2C(O)C1  \n",
       "4                  CCC(Nc1ccc(O)cc1C)c1ccccc1O  "
      ]
     },
     "execution_count": 7,
     "metadata": {},
     "output_type": "execute_result"
    }
   ],
   "source": [
    "pubchem_100k_smiles = pd.read_csv('../raw_data/pubchem_random/pubchem_100k_selected_smiles.tsv.gz', sep='\\t', index_col=\"chem_id\")\n",
    "\n",
    "fig2 = pd.read_excel(\"../data/Source Data/Figure 2.xlsx\", sheet_name=\"Fig 2a\")\n",
    "fig2bc = pd.read_excel(\"../data/Source Data/Figure 2.xlsx\", sheet_name=\"Fig 2b, c\")\n",
    "\n",
    "fig2 = fig2.join(pubchem_100k_smiles, on=\"chem_id\")\n",
    "fig2bc = fig2bc.join(pubchem_100k_smiles, on=\"chem_id\")\n",
    "\n",
    "\n",
    "fig2bc.head()"
   ]
  },
  {
   "cell_type": "code",
   "execution_count": 8,
   "metadata": {},
   "outputs": [],
   "source": [
    "with pd.ExcelWriter(\"../data/Source Data/Figure 2.xlsx\") as writer:\n",
    "    fig2.to_excel(writer, sheet_name=\"Figure 2a\", index=False)\n",
    "    fig2bc.to_excel(writer, sheet_name=\"Figure 2b,c\", index=False)"
   ]
  },
  {
   "cell_type": "markdown",
   "metadata": {},
   "source": [
    "## Figure 4"
   ]
  },
  {
   "cell_type": "code",
   "execution_count": 19,
   "metadata": {},
   "outputs": [],
   "source": [
    "fig4a = pd.read_excel(\"../data/Source Data/Figure 4.xlsx\", sheet_name=\"Fig 4a\")\n",
    "fig4b = pd.read_excel(\"../data/Source Data/Figure 4.xlsx\", sheet_name=\"Fig 4b\")\n",
    "\n",
    "fig4c = pd.read_excel(\"../data/Source Data/Figure 4.xlsx\", sheet_name=\"Fig 4c\")\n",
    "fig4c = fig4c.rename(columns={\"Catalog Number\": \"catalog_number\"})\n",
    "\n",
    "fig4d = pd.read_excel(\"../data/Source Data/Figure 4.xlsx\", sheet_name=\"Fig 4d\")\n",
    "fig4d = fig4d.rename(columns={\"Catalog Number\": \"catalog_number\"})"
   ]
  },
  {
   "cell_type": "code",
   "execution_count": 15,
   "metadata": {},
   "outputs": [
    {
     "data": {
      "text/html": [
       "<div>\n",
       "<style scoped>\n",
       "    .dataframe tbody tr th:only-of-type {\n",
       "        vertical-align: middle;\n",
       "    }\n",
       "\n",
       "    .dataframe tbody tr th {\n",
       "        vertical-align: top;\n",
       "    }\n",
       "\n",
       "    .dataframe thead th {\n",
       "        text-align: right;\n",
       "    }\n",
       "</style>\n",
       "<table border=\"1\" class=\"dataframe\">\n",
       "  <thead>\n",
       "    <tr style=\"text-align: right;\">\n",
       "      <th></th>\n",
       "      <th>smiles</th>\n",
       "    </tr>\n",
       "    <tr>\n",
       "      <th>catalog_number</th>\n",
       "      <th></th>\n",
       "    </tr>\n",
       "  </thead>\n",
       "  <tbody>\n",
       "    <tr>\n",
       "      <th>HY-B1898</th>\n",
       "      <td>Cc1ncc(CO)c(CO)c1O.O=C1CCC(C(=O)O)N1</td>\n",
       "    </tr>\n",
       "    <tr>\n",
       "      <th>HY-B0983</th>\n",
       "      <td>CCCC(=O)OC1(C(=O)CO)CCC2C3CCC4=CC(=O)CCC4(C)C3...</td>\n",
       "    </tr>\n",
       "    <tr>\n",
       "      <th>HY-B1892</th>\n",
       "      <td>Cc1nnc(SCC2=C(C(=O)O)N3C(=O)C(NC(=O)Cn4cnnn4)C...</td>\n",
       "    </tr>\n",
       "    <tr>\n",
       "      <th>HY-B1900</th>\n",
       "      <td>CC1CC2C(C(O)CC3(C)C2CCC3(O)C(=O)COC(=O)CCC(=O)...</td>\n",
       "    </tr>\n",
       "    <tr>\n",
       "      <th>HY-A0070A</th>\n",
       "      <td>NC(Cc1cc(I)c(Oc2ccc(O)c(I)c2)c(I)c1)C(=O)O</td>\n",
       "    </tr>\n",
       "  </tbody>\n",
       "</table>\n",
       "</div>"
      ],
      "text/plain": [
       "                                                           smiles\n",
       "catalog_number                                                   \n",
       "HY-B1898                     Cc1ncc(CO)c(CO)c1O.O=C1CCC(C(=O)O)N1\n",
       "HY-B0983        CCCC(=O)OC1(C(=O)CO)CCC2C3CCC4=CC(=O)CCC4(C)C3...\n",
       "HY-B1892        Cc1nnc(SCC2=C(C(=O)O)N3C(=O)C(NC(=O)Cn4cnnn4)C...\n",
       "HY-B1900        CC1CC2C(C(O)CC3(C)C2CCC3(O)C(=O)COC(=O)CCC(=O)...\n",
       "HY-A0070A              NC(Cc1cc(I)c(Oc2ccc(O)c(I)c2)c(I)c1)C(=O)O"
      ]
     },
     "execution_count": 15,
     "metadata": {},
     "output_type": "execute_result"
    }
   ],
   "source": [
    "mce_chem_library = pd.read_csv(\"../raw_data/medchemexpress/chemical_library_cleaned.tsv.gz\", sep='\\t')\n",
    "mce_chem_library  = mce_chem_library[[\"Catalog Number\", \"rdkit_no_salt\"]]\n",
    "mce_chem_library.columns = [\"catalog_number\", \"smiles\"]\n",
    "\n",
    "mce_chem_library = mce_chem_library.set_index(\"catalog_number\")\n",
    "\n",
    "mce_chem_library.head()"
   ]
  },
  {
   "cell_type": "code",
   "execution_count": 21,
   "metadata": {},
   "outputs": [],
   "source": [
    "fig4a = fig4a.join(mce_chem_library, on=\"catalog_number\")\n",
    "fig4c = fig4c.join(mce_chem_library, on=\"catalog_number\")\n",
    "fig4d = fig4d.join(mce_chem_library, on=\"catalog_number\")"
   ]
  },
  {
   "cell_type": "code",
   "execution_count": 22,
   "metadata": {},
   "outputs": [],
   "source": [
    "with pd.ExcelWriter(\"../data/Source Data/Figure 4.xlsx\") as writer:\n",
    "    fig4a.to_excel(writer, sheet_name=\"Figure 4a\", index=False)\n",
    "    fig4b.to_excel(writer, sheet_name=\"Figure 4b\", index=False)\n",
    "    fig4c.to_excel(writer, sheet_name=\"Figure 4c\", index=False)\n",
    "    fig4d.to_excel(writer, sheet_name=\"Figure 4d\", index=False)"
   ]
  },
  {
   "cell_type": "markdown",
   "metadata": {},
   "source": [
    "## Supplementary Figure 10"
   ]
  },
  {
   "cell_type": "code",
   "execution_count": null,
   "metadata": {},
   "outputs": [],
   "source": [
    "ncbi_search = pd.read_excel(\"../raw_data/maier_microbiome/\")s"
   ]
  }
 ],
 "metadata": {
  "kernelspec": {
   "display_name": "base",
   "language": "python",
   "name": "python3"
  },
  "language_info": {
   "codemirror_mode": {
    "name": "ipython",
    "version": 3
   },
   "file_extension": ".py",
   "mimetype": "text/x-python",
   "name": "python",
   "nbconvert_exporter": "python",
   "pygments_lexer": "ipython3",
   "version": "3.10.12"
  }
 },
 "nbformat": 4,
 "nbformat_minor": 2
}
